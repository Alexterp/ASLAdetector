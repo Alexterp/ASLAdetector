{
 "cells": [
  {
   "cell_type": "code",
   "execution_count": 1,
   "metadata": {},
   "outputs": [],
   "source": [
    "#import tensorflow.keras\n",
    "from tensorflow.keras.models import Sequential\n",
    "from tensorflow.keras.layers import LSTM, Dense, Dropout\n",
    "from sklearn.model_selection import train_test_split\n",
    "import numpy as np\n",
    "import matplotlib.pyplot as plt\n",
    "from sklearn.model_selection import TimeSeriesSplit\n"
   ]
  },
  {
   "cell_type": "code",
   "execution_count": 2,
   "metadata": {},
   "outputs": [
    {
     "name": "stdout",
     "output_type": "stream",
     "text": [
      "4883 1220\n"
     ]
    },
    {
     "name": "stderr",
     "output_type": "stream",
     "text": [
      "<ipython-input-2-ab40505f08ab>:9: DeprecationWarning: loadtxt(): Parsing an integer via a float is deprecated.  To avoid this warning, you can:\n",
      "    * make sure the original data is stored as integers.\n",
      "    * use the `converters=` keyword argument.  If you only use\n",
      "      NumPy 1.23 or later, `converters=float` will normally work.\n",
      "    * Use `np.loadtxt(...).astype(np.int64)` parsing the file as\n",
      "      floating point and then convert it.  (On all NumPy versions.)\n",
      "  (Deprecated NumPy 1.23)\n",
      "  Y_dataset = np.loadtxt(dataset_csv,delimiter=',',dtype='int32',usecols=(0))\n"
     ]
    }
   ],
   "source": [
    "dataset_csv = 'letter_csvs\\\\_final_.csv'\n",
    "dataset_total_rows = 6104\n",
    "dataset_total_columns = 42    #without the first coloumn (class id coloumn) \n",
    "\n",
    "\n",
    "\n",
    "\n",
    "X_dataset = np.loadtxt(dataset_csv, delimiter=',',dtype='float32', usecols=list(range(1, dataset_total_columns+1)))\n",
    "Y_dataset = np.loadtxt(dataset_csv,delimiter=',',dtype='int32',usecols=(0))\n",
    "\n",
    "X_train, X_test, Y_train, Y_test = train_test_split(X_dataset,Y_dataset,train_size=0.8, shuffle=True)\n",
    "\n",
    "time_window = 1\n",
    "training_num = int(dataset_total_rows * (1./float(time_window)) * 0.8)\n",
    "testing_num = int(dataset_total_rows * (1./float(time_window)) * 0.2)\n",
    "\n",
    "print(training_num,testing_num)\n",
    "\n",
    "X_train = X_train.reshape(4883,time_window,dataset_total_columns)\n",
    "X_test = X_test.reshape(1221, time_window,dataset_total_columns)\n",
    "Y_train = Y_train.reshape(4883,time_window,1)\n",
    "Y_test = Y_test.reshape(1221,time_window,1)\n",
    "\n",
    "# print(X_train.shape[1:])\n",
    " "
   ]
  },
  {
   "cell_type": "code",
   "execution_count": 3,
   "metadata": {},
   "outputs": [
    {
     "name": "stdout",
     "output_type": "stream",
     "text": [
      "Model: \"sequential\"\n",
      "_________________________________________________________________\n",
      " Layer (type)                Output Shape              Param #   \n",
      "=================================================================\n",
      " dense (Dense)               (None, 1, 100)            4300      \n",
      "                                                                 \n",
      " dropout (Dropout)           (None, 1, 100)            0         \n",
      "                                                                 \n",
      " dense_1 (Dense)             (None, 1, 70)             7070      \n",
      "                                                                 \n",
      " dropout_1 (Dropout)         (None, 1, 70)             0         \n",
      "                                                                 \n",
      " dense_2 (Dense)             (None, 1, 50)             3550      \n",
      "                                                                 \n",
      " dropout_2 (Dropout)         (None, 1, 50)             0         \n",
      "                                                                 \n",
      " dense_3 (Dense)             (None, 1, 27)             1377      \n",
      "                                                                 \n",
      "=================================================================\n",
      "Total params: 16,297\n",
      "Trainable params: 16,297\n",
      "Non-trainable params: 0\n",
      "_________________________________________________________________\n"
     ]
    }
   ],
   "source": [
    "model = Sequential()\n",
    "\n",
    "\n",
    "model.add(Dense((100), input_shape = (X_train.shape[1:]),activation='relu'))\n",
    "model.add(Dropout(0.2))\n",
    "\n",
    "model.add(Dense((70), activation='relu'))\n",
    "model.add(Dropout(0.2))          \n",
    "\n",
    "model.add(Dense((50), activation='relu'))\n",
    "model.add(Dropout(0.2))\n",
    "\n",
    "model.add(Dense(27, activation='softmax'))\n",
    "\n",
    "model.compile(loss='sparse_categorical_crossentropy', optimizer='adam',metrics=['accuracy'], run_eagerly=True )\n",
    "model.summary()"
   ]
  },
  {
   "cell_type": "code",
   "execution_count": 4,
   "metadata": {},
   "outputs": [
    {
     "name": "stdout",
     "output_type": "stream",
     "text": [
      "Epoch 1/40\n",
      "153/153 [==============================] - 11s 68ms/step - loss: 2.7913 - accuracy: 0.2034 - val_loss: 1.7463 - val_accuracy: 0.6036\n",
      "Epoch 2/40\n",
      "153/153 [==============================] - 11s 74ms/step - loss: 1.4874 - accuracy: 0.5052 - val_loss: 0.7761 - val_accuracy: 0.8583\n",
      "Epoch 3/40\n",
      "153/153 [==============================] - 11s 68ms/step - loss: 0.9977 - accuracy: 0.6658 - val_loss: 0.5032 - val_accuracy: 0.8976\n",
      "Epoch 4/40\n",
      "153/153 [==============================] - 10s 65ms/step - loss: 0.7700 - accuracy: 0.7381 - val_loss: 0.4024 - val_accuracy: 0.9255\n",
      "Epoch 5/40\n",
      "153/153 [==============================] - 10s 67ms/step - loss: 0.6413 - accuracy: 0.7801 - val_loss: 0.3019 - val_accuracy: 0.9156\n",
      "Epoch 6/40\n",
      "153/153 [==============================] - 11s 72ms/step - loss: 0.5282 - accuracy: 0.8200 - val_loss: 0.2554 - val_accuracy: 0.9296\n",
      "Epoch 7/40\n",
      "153/153 [==============================] - 11s 70ms/step - loss: 0.4612 - accuracy: 0.8417 - val_loss: 0.2099 - val_accuracy: 0.9476\n",
      "Epoch 8/40\n",
      "153/153 [==============================] - 10s 66ms/step - loss: 0.4147 - accuracy: 0.8583 - val_loss: 0.1778 - val_accuracy: 0.9631\n",
      "Epoch 9/40\n",
      "153/153 [==============================] - 11s 70ms/step - loss: 0.3543 - accuracy: 0.8814 - val_loss: 0.1686 - val_accuracy: 0.9410\n",
      "Epoch 10/40\n",
      "153/153 [==============================] - 11s 70ms/step - loss: 0.3168 - accuracy: 0.8992 - val_loss: 0.1229 - val_accuracy: 0.9730\n",
      "Epoch 11/40\n",
      "153/153 [==============================] - 10s 66ms/step - loss: 0.2918 - accuracy: 0.9072 - val_loss: 0.1098 - val_accuracy: 0.9689\n",
      "Epoch 12/40\n",
      "153/153 [==============================] - 11s 74ms/step - loss: 0.2686 - accuracy: 0.9091 - val_loss: 0.0945 - val_accuracy: 0.9771\n",
      "Epoch 13/40\n",
      "153/153 [==============================] - 10s 65ms/step - loss: 0.2411 - accuracy: 0.9277 - val_loss: 0.0853 - val_accuracy: 0.9803\n",
      "Epoch 14/40\n",
      "153/153 [==============================] - 10s 64ms/step - loss: 0.2243 - accuracy: 0.9304 - val_loss: 0.0740 - val_accuracy: 0.9828\n",
      "Epoch 15/40\n",
      "153/153 [==============================] - 10s 67ms/step - loss: 0.2083 - accuracy: 0.9353 - val_loss: 0.0722 - val_accuracy: 0.9812\n",
      "Epoch 16/40\n",
      "153/153 [==============================] - 10s 65ms/step - loss: 0.1919 - accuracy: 0.9375 - val_loss: 0.0864 - val_accuracy: 0.9681\n",
      "Epoch 17/40\n",
      "153/153 [==============================] - 10s 63ms/step - loss: 0.1798 - accuracy: 0.9431 - val_loss: 0.0581 - val_accuracy: 0.9828\n",
      "Epoch 18/40\n",
      "153/153 [==============================] - 10s 64ms/step - loss: 0.1742 - accuracy: 0.9433 - val_loss: 0.0551 - val_accuracy: 0.9869\n",
      "Epoch 19/40\n",
      "153/153 [==============================] - 10s 63ms/step - loss: 0.1773 - accuracy: 0.9468 - val_loss: 0.0718 - val_accuracy: 0.9771\n",
      "Epoch 20/40\n",
      "153/153 [==============================] - 10s 64ms/step - loss: 0.1514 - accuracy: 0.9523 - val_loss: 0.0475 - val_accuracy: 0.9844\n",
      "Epoch 21/40\n",
      "153/153 [==============================] - 10s 64ms/step - loss: 0.1407 - accuracy: 0.9549 - val_loss: 0.0484 - val_accuracy: 0.9894\n",
      "Epoch 22/40\n",
      "153/153 [==============================] - 10s 64ms/step - loss: 0.1367 - accuracy: 0.9570 - val_loss: 0.0399 - val_accuracy: 0.9918\n",
      "Epoch 23/40\n",
      "153/153 [==============================] - 10s 67ms/step - loss: 0.1245 - accuracy: 0.9617 - val_loss: 0.0526 - val_accuracy: 0.9812\n",
      "Epoch 24/40\n",
      "153/153 [==============================] - 11s 69ms/step - loss: 0.1283 - accuracy: 0.9584 - val_loss: 0.0450 - val_accuracy: 0.9877\n",
      "Epoch 25/40\n",
      "153/153 [==============================] - 10s 66ms/step - loss: 0.1226 - accuracy: 0.9619 - val_loss: 0.0375 - val_accuracy: 0.9885\n",
      "Epoch 26/40\n",
      "153/153 [==============================] - 10s 67ms/step - loss: 0.1171 - accuracy: 0.9638 - val_loss: 0.0389 - val_accuracy: 0.9869\n",
      "Epoch 27/40\n",
      "153/153 [==============================] - 10s 68ms/step - loss: 0.1131 - accuracy: 0.9644 - val_loss: 0.0350 - val_accuracy: 0.9910\n",
      "Epoch 28/40\n",
      "153/153 [==============================] - 10s 67ms/step - loss: 0.1010 - accuracy: 0.9687 - val_loss: 0.0327 - val_accuracy: 0.9885\n",
      "Epoch 29/40\n",
      "153/153 [==============================] - 10s 68ms/step - loss: 0.1023 - accuracy: 0.9676 - val_loss: 0.0419 - val_accuracy: 0.9877\n",
      "Epoch 30/40\n",
      "153/153 [==============================] - 10s 67ms/step - loss: 0.0979 - accuracy: 0.9664 - val_loss: 0.0395 - val_accuracy: 0.9885\n",
      "Epoch 31/40\n",
      "153/153 [==============================] - 10s 66ms/step - loss: 0.0996 - accuracy: 0.9687 - val_loss: 0.0309 - val_accuracy: 0.9877\n",
      "Epoch 32/40\n",
      "153/153 [==============================] - 11s 74ms/step - loss: 0.0972 - accuracy: 0.9734 - val_loss: 0.0339 - val_accuracy: 0.9902\n",
      "Epoch 33/40\n",
      "153/153 [==============================] - 11s 72ms/step - loss: 0.0821 - accuracy: 0.9728 - val_loss: 0.0290 - val_accuracy: 0.9910\n",
      "Epoch 34/40\n",
      "153/153 [==============================] - 10s 68ms/step - loss: 0.0913 - accuracy: 0.9728 - val_loss: 0.0271 - val_accuracy: 0.9902\n",
      "Epoch 35/40\n",
      "153/153 [==============================] - 11s 70ms/step - loss: 0.0807 - accuracy: 0.9773 - val_loss: 0.0260 - val_accuracy: 0.9926\n",
      "Epoch 36/40\n",
      "153/153 [==============================] - 12s 80ms/step - loss: 0.0909 - accuracy: 0.9703 - val_loss: 0.0272 - val_accuracy: 0.9910\n",
      "Epoch 37/40\n",
      "153/153 [==============================] - 10s 69ms/step - loss: 0.0868 - accuracy: 0.9728 - val_loss: 0.0241 - val_accuracy: 0.9918\n",
      "Epoch 38/40\n",
      "153/153 [==============================] - 10s 68ms/step - loss: 0.0845 - accuracy: 0.9724 - val_loss: 0.0345 - val_accuracy: 0.9877\n",
      "Epoch 39/40\n",
      "153/153 [==============================] - 10s 68ms/step - loss: 0.0943 - accuracy: 0.9711 - val_loss: 0.0498 - val_accuracy: 0.9795\n",
      "Epoch 40/40\n",
      "153/153 [==============================] - 10s 68ms/step - loss: 0.0754 - accuracy: 0.9748 - val_loss: 0.0244 - val_accuracy: 0.9926\n"
     ]
    }
   ],
   "source": [
    "history = model.fit(X_train,Y_train, epochs=40, validation_data=(X_test,Y_test))"
   ]
  },
  {
   "cell_type": "code",
   "execution_count": 5,
   "metadata": {},
   "outputs": [],
   "source": [
    "model_save_path = 'model\\\\model_03_10'\n",
    "model.save(model_save_path+'.h5')"
   ]
  },
  {
   "cell_type": "code",
   "execution_count": 6,
   "metadata": {},
   "outputs": [
    {
     "data": {
      "image/png": "[encoded data removed]",
      "text/plain": [
       "<Figure size 432x288 with 1 Axes>"
      ]
     },
     "metadata": {
      "needs_background": "light"
     },
     "output_type": "display_data"
    }
   ],
   "source": [
    "plt.plot(history.history['loss'])\n",
    "plt.plot(history.history['val_loss'])\n",
    "plt.title('model train vs validation loss')\n",
    "plt.ylabel('loss')\n",
    "plt.xlabel('epoch')\n",
    "plt.legend(['train', 'validation'], loc='upper right')\n",
    "plt.savefig(model_save_path+'_loss_graph.png')\n",
    "plt.show()"
   ]
  },
  {
   "cell_type": "code",
   "execution_count": 7,
   "metadata": {},
   "outputs": [
    {
     "data": {
      "image/png": "[encoded data removed]",
      "text/plain": [
       "<Figure size 432x288 with 1 Axes>"
      ]
     },
     "metadata": {
      "needs_background": "light"
     },
     "output_type": "display_data"
    }
   ],
   "source": [
    "plt.plot(history.history['accuracy'])\n",
    "plt.plot(history.history['val_accuracy'])\n",
    "plt.title('model train vs validation accuracy')\n",
    "plt.ylabel('accuracy')\n",
    "plt.xlabel('epoch')\n",
    "plt.legend(['train', 'validation'], loc='upper right')\n",
    "plt.savefig(model_save_path+'_accuracy_graph.png')\n",
    "plt.show()"
   ]
  }
 ],
 "metadata": {
  "kernelspec": {
   "display_name": "Python 3",
   "language": "python",
   "name": "python3"
  },
  "language_info": {
   "codemirror_mode": {
    "name": "ipython",
    "version": 3
   },
   "file_extension": ".py",
   "mimetype": "text/x-python",
   "name": "python",
   "nbconvert_exporter": "python",
   "pygments_lexer": "ipython3",
   "version": "3.8.6"
  },
  "orig_nbformat": 4,
  "vscode": {
   "interpreter": {
    "hash": "2895a9ff45eae723fdadc456c4bca17d77a71277f8efe34e6ebc3ca2a18e1d2d"
   }
  }
 },
 "nbformat": 4,
 "nbformat_minor": 2
}
